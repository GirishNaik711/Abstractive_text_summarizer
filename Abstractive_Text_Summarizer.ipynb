{
  "cells": [
    {
      "cell_type": "markdown",
      "metadata": {
        "id": "view-in-github",
        "colab_type": "text"
      },
      "source": [
        "<a href=\"https://colab.research.google.com/github/GirishNaik711/Abstractive_text_summarizer/blob/main/Abstractive_Text_Summarizer.ipynb\" target=\"_parent\"><img src=\"https://colab.research.google.com/assets/colab-badge.svg\" alt=\"Open In Colab\"/></a>"
      ]
    },
    {
      "cell_type": "code",
      "source": [
        "! pip install torch sacrebleu transformers[sentencepiece] rouge_score py7zr datasets -q"
      ],
      "metadata": {
        "id": "iCgdniEZDHzn"
      },
      "execution_count": null,
      "outputs": []
    },
    {
      "cell_type": "code",
      "execution_count": null,
      "metadata": {
        "id": "v1j3ATwdHF32"
      },
      "outputs": [],
      "source": [
        "import numpy as np\n",
        "import pandas as pd\n",
        "import tensorflow as tf\n",
        "import keras\n",
        "import tensorflow_datasets as tfds\n",
        "from keras.preprocessing.text import Tokenizer\n",
        "from tensorflow.keras.preprocessing.sequence import pad_sequences\n",
        "from keras.layers import Input, LSTM, Dense, Embedding\n",
        "from keras.preprocessing import sequence\n",
        "from datasets import load_dataset, load_metric"
      ]
    },
    {
      "cell_type": "code",
      "source": [
        "import string"
      ],
      "metadata": {
        "id": "4j5w-db-QTj7"
      },
      "execution_count": null,
      "outputs": []
    },
    {
      "cell_type": "code",
      "execution_count": null,
      "metadata": {
        "id": "MmXPP8hTHQKh"
      },
      "outputs": [],
      "source": [
        "#dataset = tfds.load('cnn_dailymail', version = \"3.0.0\", split='train', shuffle_files=True)\n",
        "#data = tfds.as_dataframe(dataset)\n",
        "dataset = load_dataset(\"cnn_dailymail\", version = \"3.0.0\")\n",
        "data = dataset"
      ]
    },
    {
      "cell_type": "code",
      "source": [
        "data_train = data['train']\n",
        "data_train = data_train[:100000]"
      ],
      "metadata": {
        "id": "SaxG3Bk1ETJZ"
      },
      "execution_count": null,
      "outputs": []
    },
    {
      "cell_type": "code",
      "source": [
        "data_train['article']"
      ],
      "metadata": {
        "id": "uBeAESOeKprm"
      },
      "execution_count": null,
      "outputs": []
    },
    {
      "cell_type": "code",
      "execution_count": null,
      "metadata": {
        "id": "p3FvyDO7MEBJ"
      },
      "outputs": [],
      "source": [
        "input_texts = data_train['article']\n",
        "input_texts = [' '.join(i.split()) for i in input_texts]\n",
        "input_texts = [i.translate(str.maketrans('','',string.punctuation)).lower() for i in input_texts]\n",
        "\n",
        "target_texts = data_train['highlights']\n",
        "target_texts = [' '.join(i.split()) for i in target_texts]\n",
        "target_texts = [i.translate(str.maketrans('','',string.punctuation)).lower() for i in target_texts]"
      ]
    },
    {
      "cell_type": "code",
      "execution_count": null,
      "metadata": {
        "id": "kbgVhZ5wHcbR"
      },
      "outputs": [],
      "source": [
        "input_tokenizer = Tokenizer()\n",
        "target_tokenizer = Tokenizer()\n",
        "input_tokenizer.fit_on_texts(input_texts)\n",
        "target_tokenizer.fit_on_texts(target_texts)\n",
        "\n",
        "input_vocab_size = len(input_tokenizer.word_index) + 1\n",
        "output_vocab_size = len(target_tokenizer.word_index) + 1\n",
        "\n",
        "input_sequences = input_tokenizer.texts_to_sequences(input_texts)\n",
        "target_sequences = target_tokenizer.texts_to_sequences(target_texts)\n",
        "\n",
        "max_input_len = 500\n",
        "max_output_len = 100\n",
        "\n",
        "encoder_input_data = pad_sequences(input_sequences, maxlen=max_input_len, padding='post')\n",
        "decoder_input_data = pad_sequences(target_sequences, maxlen=max_output_len, padding='post')"
      ]
    },
    {
      "cell_type": "code",
      "execution_count": null,
      "metadata": {
        "id": "VyEDpkKYHcNe"
      },
      "outputs": [],
      "source": [
        "decoder_target_data = np.zeros_like(decoder_input_data)\n",
        "decoder_target_data[:, 1:] = decoder_input_data[:, :-1]\n"
      ]
    },
    {
      "cell_type": "code",
      "execution_count": null,
      "metadata": {
        "id": "6afI_jxwHcGf"
      },
      "outputs": [],
      "source": [
        "embedding_dim = 100\n",
        "hidden_units = 256\n",
        "\n",
        "encoder_input = Input(shape=(max_input_len,))\n",
        "encoder_embedding = Embedding(input_vocab_size, embedding_dim, mask_zero=True)(encoder_input)\n",
        "encoder_lstm = LSTM(hidden_units, return_state=True)\n",
        "_, state_h, state_c = encoder_lstm(encoder_embedding)\n",
        "\n",
        "decoder_input = Input(shape=(max_output_len,))\n",
        "decoder_embedding = Embedding(output_vocab_size, embedding_dim, mask_zero=True)(decoder_input)\n",
        "decoder_lstm = LSTM(hidden_units, return_sequences=True, return_state=True)\n",
        "decoder_output, _, _ = decoder_lstm(decoder_embedding, initial_state=[state_h, state_c])\n",
        "decoder_dense = Dense(output_vocab_size, activation='softmax')\n",
        "output = decoder_dense(decoder_output)"
      ]
    },
    {
      "cell_type": "code",
      "execution_count": null,
      "metadata": {
        "id": "JI6pXi5fH5w3"
      },
      "outputs": [],
      "source": [
        "from keras.models import Model\n",
        "\n",
        "model = Model([encoder_input, decoder_input], output)\n",
        "model.compile(optimizer='adam', loss='sparse_categorical_crossentropy', learning_rate = 0.0001, metrics = ['acc'])\n",
        "\n",
        "batch_size = 32\n",
        "epochs = 10\n",
        "\n",
        "model.fit([encoder_input_data, decoder_input_data], np.expand_dims(decoder_target_data, -1),\n",
        "          batch_size=batch_size, epochs=epochs)\n"
      ]
    },
    {
      "cell_type": "code",
      "execution_count": null,
      "metadata": {
        "id": "Nh25GW0nH5tU"
      },
      "outputs": [],
      "source": [
        "def summarize(input_text):\n",
        "    input_sequence = input_tokenizer.texts_to_sequences([input_text])\n",
        "    encoder_input = pad_sequences(input_sequence, maxlen=max_input_len, padding='post')\n",
        "    decoder_input = np.zeros((1, max_output_len))\n",
        "    #decoder_input[0, 0] = target_tokenizer.word_index['start']\n",
        "\n",
        "    for i in range(max_output_len - 1):\n",
        "        predictions = model.predict([encoder_input, decoder_input])\n",
        "        predicted_id = np.argmax(predictions[0, i, :])\n",
        "\n",
        "        print(\"Predicted ID:\", predicted_id)\n",
        "        print(\"Decoder Input (Before):\", decoder_input)\n",
        "\n",
        "        if predicted_id == target_tokenizer.word_index['end']:\n",
        "            break\n",
        "        decoder_input[0, i+1] = predicted_id\n",
        "        print(\"Decoder Input (After):\", decoder_input)\n",
        "\n",
        "    summary = target_tokenizer.sequences_to_texts(decoder_input)[0]\n",
        "    return summary\n"
      ]
    },
    {
      "cell_type": "code",
      "execution_count": null,
      "metadata": {
        "id": "rFbitDV9H5q3"
      },
      "outputs": [],
      "source": [
        "input_text = input_texts[84]\n",
        "summary = summarize(input_text)\n",
        "print('Input:', input_text)\n",
        "print('Summary:', summary)"
      ]
    },
    {
      "cell_type": "markdown",
      "source": [
        "#BART SUMMARIZER"
      ],
      "metadata": {
        "id": "pLq89sZlvpJd"
      }
    },
    {
      "cell_type": "code",
      "execution_count": null,
      "metadata": {
        "id": "_EQkp9TGT7fE"
      },
      "outputs": [],
      "source": [
        "! pip install torch sacrebleu transformers[sentencepiece] rouge_score py7zr datasets -q"
      ]
    },
    {
      "cell_type": "code",
      "source": [
        "import pandas as pd\n",
        "import numpy as np\n",
        "from transformers import pipeline, set_seed\n",
        "from datasets import load_dataset, load_metric\n",
        "from transformers import AutoModelForSeq2SeqLM, AutoTokenizer\n",
        "import nltk\n",
        "from nltk.tokenize import sent_tokenize\n",
        "nltk.download(\"punkt\")"
      ],
      "metadata": {
        "id": "m7JBnU_TnN4-"
      },
      "execution_count": null,
      "outputs": []
    },
    {
      "cell_type": "code",
      "source": [
        "dataset = load_dataset(\"cnn_dailymail\", version = \"3.0.0\")\n",
        "print(f\"Feature of the CNN_DailyMail: {dataset['train'].column_names}\")"
      ],
      "metadata": {
        "id": "ebJ-fTtLq2zW"
      },
      "execution_count": null,
      "outputs": []
    },
    {
      "cell_type": "code",
      "source": [
        "sample = dataset[\"train\"][1]\n",
        "print(f\"Article total length: {len(sample['article'])} \\n\")\n",
        "print(f\"\"\"Article\"s excerpt of 500 characters: {sample['article'][:500]} \\n\"\"\")\n",
        "\n",
        "print(f\"Summary Length: {len(sample['highlights'])} \\n\")\n",
        "print(f\"SUMMARY: {sample['highlights']}\")\n"
      ],
      "metadata": {
        "id": "z2OjH-FfCOix",
        "colab": {
          "base_uri": "https://localhost:8080/"
        },
        "outputId": "71c2aedb-1d9e-4a0a-8587-9c48fa7886c4"
      },
      "execution_count": null,
      "outputs": [
        {
          "output_type": "stream",
          "name": "stdout",
          "text": [
            "Article total length: 4051 \n",
            "\n",
            "Article\"s excerpt of 500 characters: Editor's note: In our Behind the Scenes series, CNN correspondents share their experiences in covering news and analyze the stories behind the events. Here, Soledad O'Brien takes users inside a jail where many of the inmates are mentally ill. An inmate housed on the \"forgotten floor,\" where many mentally ill inmates are housed in Miami before trial. MIAMI, Florida (CNN) -- The ninth floor of the Miami-Dade pretrial detention facility is dubbed the \"forgotten floor.\" Here, inmates with the most s \n",
            "\n",
            "Summary Length: 281 \n",
            "\n",
            "SUMMARY: Mentally ill inmates in Miami are housed on the \"forgotten floor\"\n",
            "Judge Steven Leifman says most are there as a result of \"avoidable felonies\"\n",
            "While CNN tours facility, patient shouts: \"I am the son of the president\"\n",
            "Leifman says the system is unjust and he's fighting for change .\n"
          ]
        }
      ]
    },
    {
      "cell_type": "code",
      "source": [
        "sample_text = dataset[\"train\"][1][\"article\"][:1000]\n",
        "summaries = {}"
      ],
      "metadata": {
        "id": "KAEqGYEV8t4Q"
      },
      "execution_count": null,
      "outputs": []
    },
    {
      "cell_type": "markdown",
      "source": [
        "#BaseLine Model"
      ],
      "metadata": {
        "id": "xOzrpGh3Bprq"
      }
    },
    {
      "cell_type": "code",
      "source": [
        "def baseline_summary_three_sent(text):\n",
        "  return \"\\n\".join(sent_tokenize(text)[:3])\n",
        "\n",
        "summaries[\"Baseline\"] = baseline_summary_three_sent(sample_text)\n",
        "summaries[\"Baseline\"]"
      ],
      "metadata": {
        "id": "wnk3aBmF9zP_",
        "colab": {
          "base_uri": "https://localhost:8080/",
          "height": 70
        },
        "outputId": "f453828f-e33f-4e6c-c632-840245b4d62a"
      },
      "execution_count": null,
      "outputs": [
        {
          "output_type": "execute_result",
          "data": {
            "text/plain": [
              "'Editor\\'s note: In our Behind the Scenes series, CNN correspondents share their experiences in covering news and analyze the stories behind the events.\\nHere, Soledad O\\'Brien takes users inside a jail where many of the inmates are mentally ill. An inmate housed on the \"forgotten floor,\" where many mentally ill inmates are housed in Miami before trial.\\nMIAMI, Florida (CNN) -- The ninth floor of the Miami-Dade pretrial detention facility is dubbed the \"forgotten floor.\"'"
            ],
            "application/vnd.google.colaboratory.intrinsic+json": {
              "type": "string"
            }
          },
          "metadata": {},
          "execution_count": 6
        }
      ]
    },
    {
      "cell_type": "markdown",
      "source": [
        "#BART"
      ],
      "metadata": {
        "id": "XEHWDk-7ByFr"
      }
    },
    {
      "cell_type": "code",
      "source": [
        "pipe = pipeline(\"summarization\", model = \"facebook/bart-large-cnn\")\n",
        "pipe_out = pipe(sample_text)\n",
        "summaries[\"Bart\"] = \"\\n\".join(sent_tokenize(pipe_out[0][\"summary_text\"]))\n"
      ],
      "metadata": {
        "id": "LKmRkKtD-n2d",
        "colab": {
          "base_uri": "https://localhost:8080/",
          "height": 209,
          "referenced_widgets": [
            "ff11a1456cbb456c8fd0e88d536b1068",
            "c571e07e8c5147a6bb9b2245bef488ca",
            "e6ffad7aea0d496990e00bd2e3889f73",
            "9fc7f34bc6c24bac91b48dc8475ccc09",
            "ad44694c1f364e54b03af223ce55c7a7",
            "c60483d19b0c4c5aa4b750934a2b0fdb",
            "924d253e8286463da0f1790534ee452f",
            "1d1576ec38ac44d9b9a82a6e81643f9f",
            "d8cc4bfac499431b8032ad85ec74b16d",
            "495cd343e65f4d89b2eaa62f9cf50703",
            "02268ed3fe1c418ebce4a9f773c6091d",
            "6675277223904a25b5844f85df49be7b",
            "2ded4f434222437ab12f5f62608ab00d",
            "8767dd55f68b47278147e52fa61651ea",
            "74b53dfead8949d09e98b06faeaecb7d",
            "93b157205f6a4cbe8a9170a95a538cac",
            "f94c44ef04f443da94495578bef64e23",
            "92ccd9a7b22348a1a07fd5a469fd32e4",
            "c9fbdb869a1d45608a064f880b70c10f",
            "582cc8399ef0437d9f8670d58ac5f5b0",
            "21ce2f290a1644a48112e9e54fdf4df5",
            "6acc8e4ea78241dd8a8080ae39cf16c0",
            "53d7cdada38b48458dc36d0efd7dcda4",
            "4bdc9049a53b42b3a7feeb3974801eb7",
            "0c5efb354be34edca62cbe4103e23e7d",
            "888ff7dc69ec4258b89bf8801039dab9",
            "c87580767dba45a887ab0ea941d5ce34",
            "94145977dc334659b4821c8b17d7e6d9",
            "6744f345e6c9403ba15c249876bed50d",
            "c85ad95e0c96413ca5a79062185f5e56",
            "465d0d1a6506402cbcd40c4b65250dc2",
            "b1053e42c650483ca872e4996767c81d",
            "17ced0a2a1f24625a2085ff4d6406fb5",
            "880cd7ed2ea4403b9a5a9530a98c9fe1",
            "e359196f6dc04cabba3637583f728e6d",
            "cccdf35d25b547ad93085b0f80a617e3",
            "87660071a6ba4bec91baf1104f8c02c7",
            "14ac6d309de14101bc28ff9cbb674a80",
            "a448d25cd6c44d0d8097b4c5f17234e4",
            "0950723377f24b4eb92f79fa653a361b",
            "756f7e2adf0a48a18c3db6ac5a9dc822",
            "76d7a731da52463b9ce403d8fe691840",
            "ad7dcf3f3dfe4e6280be2c146561f643",
            "5fff985d08a44499857be94f6537c517",
            "2215139e15b94f8aa30266baff0fca6e",
            "35d263f12eaa46a4a3dbff4306d429bc",
            "818d937d6b474c49bf099742ec543aa7",
            "3e5bd9a22ce24733864967dacf744661",
            "3b1fe812a25f494e9a748cfbbfb801fb",
            "f989af33ae8147458e666c166aa8e44a",
            "8cc43e5dc9504d0d9decf7d055b9dadf",
            "bdf7b7e6eac44a6392f8ebc8ccba7eaa",
            "ca10b9005c4c47d7a6875c599f79aaa3",
            "b28af97421f6489a84383c8feb8daaff",
            "88a89a956bad4a96a5773bbda7a0e1ad",
            "def0c918d6924254a78a39cc917bd12f",
            "46410a6b722b4856a82b2eeb3dfaaef8",
            "96836ddac55c4b848f12bdd0ce6541ac",
            "102a38334495424b97d8d512ab7e4401",
            "b10e8078a647425880308b68fbdf7c58",
            "8c8c88cf49274eaebc4846a5b152b9d6",
            "38f9320b1fac40b39e8d87efbdb918ef",
            "ca0219bb84914254b1943b16307af267",
            "18fa6f1afde741568f686603dc9071e2",
            "780efaa85bd24996b7e084c98b0c814c",
            "c1bbe4073b41404ea9436aaf04742382"
          ]
        },
        "outputId": "492d0af3-7ae5-4231-e356-d39201d69bd2"
      },
      "execution_count": null,
      "outputs": [
        {
          "output_type": "display_data",
          "data": {
            "text/plain": [
              "Downloading (…)lve/main/config.json:   0%|          | 0.00/1.58k [00:00<?, ?B/s]"
            ],
            "application/vnd.jupyter.widget-view+json": {
              "version_major": 2,
              "version_minor": 0,
              "model_id": "ff11a1456cbb456c8fd0e88d536b1068"
            }
          },
          "metadata": {}
        },
        {
          "output_type": "display_data",
          "data": {
            "text/plain": [
              "Downloading pytorch_model.bin:   0%|          | 0.00/1.63G [00:00<?, ?B/s]"
            ],
            "application/vnd.jupyter.widget-view+json": {
              "version_major": 2,
              "version_minor": 0,
              "model_id": "6675277223904a25b5844f85df49be7b"
            }
          },
          "metadata": {}
        },
        {
          "output_type": "display_data",
          "data": {
            "text/plain": [
              "Downloading (…)neration_config.json:   0%|          | 0.00/363 [00:00<?, ?B/s]"
            ],
            "application/vnd.jupyter.widget-view+json": {
              "version_major": 2,
              "version_minor": 0,
              "model_id": "53d7cdada38b48458dc36d0efd7dcda4"
            }
          },
          "metadata": {}
        },
        {
          "output_type": "display_data",
          "data": {
            "text/plain": [
              "Downloading (…)olve/main/vocab.json:   0%|          | 0.00/899k [00:00<?, ?B/s]"
            ],
            "application/vnd.jupyter.widget-view+json": {
              "version_major": 2,
              "version_minor": 0,
              "model_id": "880cd7ed2ea4403b9a5a9530a98c9fe1"
            }
          },
          "metadata": {}
        },
        {
          "output_type": "display_data",
          "data": {
            "text/plain": [
              "Downloading (…)olve/main/merges.txt:   0%|          | 0.00/456k [00:00<?, ?B/s]"
            ],
            "application/vnd.jupyter.widget-view+json": {
              "version_major": 2,
              "version_minor": 0,
              "model_id": "2215139e15b94f8aa30266baff0fca6e"
            }
          },
          "metadata": {}
        },
        {
          "output_type": "display_data",
          "data": {
            "text/plain": [
              "Downloading (…)/main/tokenizer.json:   0%|          | 0.00/1.36M [00:00<?, ?B/s]"
            ],
            "application/vnd.jupyter.widget-view+json": {
              "version_major": 2,
              "version_minor": 0,
              "model_id": "def0c918d6924254a78a39cc917bd12f"
            }
          },
          "metadata": {}
        }
      ]
    },
    {
      "cell_type": "code",
      "source": [
        "summaries['Bart']"
      ],
      "metadata": {
        "id": "XwFWYWNTB6BP",
        "outputId": "d6e7e2a3-dbee-4f58-cb74-13ad51574afb",
        "colab": {
          "base_uri": "https://localhost:8080/",
          "height": 53
        }
      },
      "execution_count": null,
      "outputs": [
        {
          "output_type": "execute_result",
          "data": {
            "text/plain": [
              "'Miami-Dade pretrial detention facility is dubbed the \"forgotten floor\" Here, inmates with the most severe mental illnesses are incarcerated.\\nMost often, they face drug charges or charges of assaulting an officer.\\nJudge Steven Leifman says the arrests often result from confrontations with police.'"
            ],
            "application/vnd.google.colaboratory.intrinsic+json": {
              "type": "string"
            }
          },
          "metadata": {},
          "execution_count": 8
        }
      ]
    },
    {
      "cell_type": "markdown",
      "source": [
        "#ROUGE"
      ],
      "metadata": {
        "id": "oP3fFvLOB6C7"
      }
    },
    {
      "cell_type": "code",
      "source": [
        "rouge_metric = load_metric(\"rouge\")\n",
        "rouge_names = (\"rouge1\", \"rouge2\", \"rougeL\",\"rougeLsum\")\n",
        "\n",
        "reference = dataset[\"train\"][1][\"highlights\"]\n",
        "\n",
        "records = []\n",
        "\n",
        "for model_name in summaries:\n",
        "  rouge_metric.add(prediction = summaries[model_name], reference = reference)\n",
        "  score = rouge_metric.compute()\n",
        "  rouge_dict = dict((rn, score[rn].mid.fmeasure) for rn in rouge_names)\n",
        "  print(\"rouge_dict \", rouge_dict )\n",
        "  records.append(rouge_dict)\n",
        "\n",
        "pd.DataFrame.from_records(records, index = summaries.keys())"
      ],
      "metadata": {
        "id": "4x2D0-r0BbYm",
        "colab": {
          "base_uri": "https://localhost:8080/",
          "height": 234,
          "referenced_widgets": [
            "59d24486a1544fbca43fe7cb5180a898",
            "5e8eef679c3b465285360800ab33a70a",
            "e128c89a8cd24c2daca61d1bbf603315",
            "b999d9ced88343a3bfe2ed7315b72b85",
            "a6b9033ef28342f495bfce2c8f7bb536",
            "9979c9cc3d3743d7b0b682a88c2eeaa1",
            "9e7bfbb63117462ca775ff0db5f837c1",
            "26e5b6876bf241b78106ed1a33d448c5",
            "87b91a0930dc4cb28f45298506d8d8d6",
            "94d8cfe017dd44f19fb6185d970eea40",
            "e0cd8d7b751d42ca97f824bdd512e198"
          ]
        },
        "outputId": "57e4ff4a-9811-4025-8f75-b46ca787d9cb"
      },
      "execution_count": null,
      "outputs": [
        {
          "output_type": "stream",
          "name": "stderr",
          "text": [
            "<ipython-input-9-298b37e75ca2>:1: FutureWarning: load_metric is deprecated and will be removed in the next major version of datasets. Use 'evaluate.load' instead, from the new library 🤗 Evaluate: https://huggingface.co/docs/evaluate\n",
            "  rouge_metric = load_metric(\"rouge\")\n"
          ]
        },
        {
          "output_type": "display_data",
          "data": {
            "text/plain": [
              "Downloading builder script:   0%|          | 0.00/2.17k [00:00<?, ?B/s]"
            ],
            "application/vnd.jupyter.widget-view+json": {
              "version_major": 2,
              "version_minor": 0,
              "model_id": "59d24486a1544fbca43fe7cb5180a898"
            }
          },
          "metadata": {}
        },
        {
          "output_type": "stream",
          "name": "stdout",
          "text": [
            "rouge_dict  {'rouge1': 0.365079365079365, 'rouge2': 0.14516129032258066, 'rougeL': 0.20634920634920634, 'rougeLsum': 0.2857142857142857}\n",
            "rouge_dict  {'rouge1': 0.3655913978494624, 'rouge2': 0.13186813186813184, 'rougeL': 0.2150537634408602, 'rougeLsum': 0.3225806451612903}\n"
          ]
        },
        {
          "output_type": "execute_result",
          "data": {
            "text/plain": [
              "            rouge1    rouge2    rougeL  rougeLsum\n",
              "Baseline  0.365079  0.145161  0.206349   0.285714\n",
              "Bart      0.365591  0.131868  0.215054   0.322581"
            ],
            "text/html": [
              "\n",
              "\n",
              "  <div id=\"df-731b555a-d4d2-4022-beb7-070a8705fb8e\">\n",
              "    <div class=\"colab-df-container\">\n",
              "      <div>\n",
              "<style scoped>\n",
              "    .dataframe tbody tr th:only-of-type {\n",
              "        vertical-align: middle;\n",
              "    }\n",
              "\n",
              "    .dataframe tbody tr th {\n",
              "        vertical-align: top;\n",
              "    }\n",
              "\n",
              "    .dataframe thead th {\n",
              "        text-align: right;\n",
              "    }\n",
              "</style>\n",
              "<table border=\"1\" class=\"dataframe\">\n",
              "  <thead>\n",
              "    <tr style=\"text-align: right;\">\n",
              "      <th></th>\n",
              "      <th>rouge1</th>\n",
              "      <th>rouge2</th>\n",
              "      <th>rougeL</th>\n",
              "      <th>rougeLsum</th>\n",
              "    </tr>\n",
              "  </thead>\n",
              "  <tbody>\n",
              "    <tr>\n",
              "      <th>Baseline</th>\n",
              "      <td>0.365079</td>\n",
              "      <td>0.145161</td>\n",
              "      <td>0.206349</td>\n",
              "      <td>0.285714</td>\n",
              "    </tr>\n",
              "    <tr>\n",
              "      <th>Bart</th>\n",
              "      <td>0.365591</td>\n",
              "      <td>0.131868</td>\n",
              "      <td>0.215054</td>\n",
              "      <td>0.322581</td>\n",
              "    </tr>\n",
              "  </tbody>\n",
              "</table>\n",
              "</div>\n",
              "      <button class=\"colab-df-convert\" onclick=\"convertToInteractive('df-731b555a-d4d2-4022-beb7-070a8705fb8e')\"\n",
              "              title=\"Convert this dataframe to an interactive table.\"\n",
              "              style=\"display:none;\">\n",
              "\n",
              "  <svg xmlns=\"http://www.w3.org/2000/svg\" height=\"24px\"viewBox=\"0 0 24 24\"\n",
              "       width=\"24px\">\n",
              "    <path d=\"M0 0h24v24H0V0z\" fill=\"none\"/>\n",
              "    <path d=\"M18.56 5.44l.94 2.06.94-2.06 2.06-.94-2.06-.94-.94-2.06-.94 2.06-2.06.94zm-11 1L8.5 8.5l.94-2.06 2.06-.94-2.06-.94L8.5 2.5l-.94 2.06-2.06.94zm10 10l.94 2.06.94-2.06 2.06-.94-2.06-.94-.94-2.06-.94 2.06-2.06.94z\"/><path d=\"M17.41 7.96l-1.37-1.37c-.4-.4-.92-.59-1.43-.59-.52 0-1.04.2-1.43.59L10.3 9.45l-7.72 7.72c-.78.78-.78 2.05 0 2.83L4 21.41c.39.39.9.59 1.41.59.51 0 1.02-.2 1.41-.59l7.78-7.78 2.81-2.81c.8-.78.8-2.07 0-2.86zM5.41 20L4 18.59l7.72-7.72 1.47 1.35L5.41 20z\"/>\n",
              "  </svg>\n",
              "      </button>\n",
              "\n",
              "\n",
              "\n",
              "    <div id=\"df-028f855f-b23e-44f5-8211-6e39e2519ef8\">\n",
              "      <button class=\"colab-df-quickchart\" onclick=\"quickchart('df-028f855f-b23e-44f5-8211-6e39e2519ef8')\"\n",
              "              title=\"Suggest charts.\"\n",
              "              style=\"display:none;\">\n",
              "\n",
              "<svg xmlns=\"http://www.w3.org/2000/svg\" height=\"24px\"viewBox=\"0 0 24 24\"\n",
              "     width=\"24px\">\n",
              "    <g>\n",
              "        <path d=\"M19 3H5c-1.1 0-2 .9-2 2v14c0 1.1.9 2 2 2h14c1.1 0 2-.9 2-2V5c0-1.1-.9-2-2-2zM9 17H7v-7h2v7zm4 0h-2V7h2v10zm4 0h-2v-4h2v4z\"/>\n",
              "    </g>\n",
              "</svg>\n",
              "      </button>\n",
              "    </div>\n",
              "\n",
              "<style>\n",
              "  .colab-df-quickchart {\n",
              "    background-color: #E8F0FE;\n",
              "    border: none;\n",
              "    border-radius: 50%;\n",
              "    cursor: pointer;\n",
              "    display: none;\n",
              "    fill: #1967D2;\n",
              "    height: 32px;\n",
              "    padding: 0 0 0 0;\n",
              "    width: 32px;\n",
              "  }\n",
              "\n",
              "  .colab-df-quickchart:hover {\n",
              "    background-color: #E2EBFA;\n",
              "    box-shadow: 0px 1px 2px rgba(60, 64, 67, 0.3), 0px 1px 3px 1px rgba(60, 64, 67, 0.15);\n",
              "    fill: #174EA6;\n",
              "  }\n",
              "\n",
              "  [theme=dark] .colab-df-quickchart {\n",
              "    background-color: #3B4455;\n",
              "    fill: #D2E3FC;\n",
              "  }\n",
              "\n",
              "  [theme=dark] .colab-df-quickchart:hover {\n",
              "    background-color: #434B5C;\n",
              "    box-shadow: 0px 1px 3px 1px rgba(0, 0, 0, 0.15);\n",
              "    filter: drop-shadow(0px 1px 2px rgba(0, 0, 0, 0.3));\n",
              "    fill: #FFFFFF;\n",
              "  }\n",
              "</style>\n",
              "\n",
              "    <script>\n",
              "      async function quickchart(key) {\n",
              "        const containerElement = document.querySelector('#' + key);\n",
              "        const charts = await google.colab.kernel.invokeFunction(\n",
              "            'suggestCharts', [key], {});\n",
              "      }\n",
              "    </script>\n",
              "\n",
              "      <script>\n",
              "\n",
              "function displayQuickchartButton(domScope) {\n",
              "  let quickchartButtonEl =\n",
              "    domScope.querySelector('#df-028f855f-b23e-44f5-8211-6e39e2519ef8 button.colab-df-quickchart');\n",
              "  quickchartButtonEl.style.display =\n",
              "    google.colab.kernel.accessAllowed ? 'block' : 'none';\n",
              "}\n",
              "\n",
              "        displayQuickchartButton(document);\n",
              "      </script>\n",
              "      <style>\n",
              "    .colab-df-container {\n",
              "      display:flex;\n",
              "      flex-wrap:wrap;\n",
              "      gap: 12px;\n",
              "    }\n",
              "\n",
              "    .colab-df-convert {\n",
              "      background-color: #E8F0FE;\n",
              "      border: none;\n",
              "      border-radius: 50%;\n",
              "      cursor: pointer;\n",
              "      display: none;\n",
              "      fill: #1967D2;\n",
              "      height: 32px;\n",
              "      padding: 0 0 0 0;\n",
              "      width: 32px;\n",
              "    }\n",
              "\n",
              "    .colab-df-convert:hover {\n",
              "      background-color: #E2EBFA;\n",
              "      box-shadow: 0px 1px 2px rgba(60, 64, 67, 0.3), 0px 1px 3px 1px rgba(60, 64, 67, 0.15);\n",
              "      fill: #174EA6;\n",
              "    }\n",
              "\n",
              "    [theme=dark] .colab-df-convert {\n",
              "      background-color: #3B4455;\n",
              "      fill: #D2E3FC;\n",
              "    }\n",
              "\n",
              "    [theme=dark] .colab-df-convert:hover {\n",
              "      background-color: #434B5C;\n",
              "      box-shadow: 0px 1px 3px 1px rgba(0, 0, 0, 0.15);\n",
              "      filter: drop-shadow(0px 1px 2px rgba(0, 0, 0, 0.3));\n",
              "      fill: #FFFFFF;\n",
              "    }\n",
              "  </style>\n",
              "\n",
              "      <script>\n",
              "        const buttonEl =\n",
              "          document.querySelector('#df-731b555a-d4d2-4022-beb7-070a8705fb8e button.colab-df-convert');\n",
              "        buttonEl.style.display =\n",
              "          google.colab.kernel.accessAllowed ? 'block' : 'none';\n",
              "\n",
              "        async function convertToInteractive(key) {\n",
              "          const element = document.querySelector('#df-731b555a-d4d2-4022-beb7-070a8705fb8e');\n",
              "          const dataTable =\n",
              "            await google.colab.kernel.invokeFunction('convertToInteractive',\n",
              "                                                     [key], {});\n",
              "          if (!dataTable) return;\n",
              "\n",
              "          const docLinkHtml = 'Like what you see? Visit the ' +\n",
              "            '<a target=\"_blank\" href=https://colab.research.google.com/notebooks/data_table.ipynb>data table notebook</a>'\n",
              "            + ' to learn more about interactive tables.';\n",
              "          element.innerHTML = '';\n",
              "          dataTable['output_type'] = 'display_data';\n",
              "          await google.colab.output.renderOutput(dataTable, element);\n",
              "          const docLink = document.createElement('div');\n",
              "          docLink.innerHTML = docLinkHtml;\n",
              "          element.appendChild(docLink);\n",
              "        }\n",
              "      </script>\n",
              "    </div>\n",
              "  </div>\n"
            ]
          },
          "metadata": {},
          "execution_count": 9
        }
      ]
    },
    {
      "cell_type": "markdown",
      "source": [
        "#Test Set Evaluation"
      ],
      "metadata": {
        "id": "3zpl0utLGBZ9"
      }
    },
    {
      "cell_type": "markdown",
      "source": [
        "Base Model"
      ],
      "metadata": {
        "id": "8lxlo5KVGGMb"
      }
    },
    {
      "cell_type": "code",
      "source": [
        "def calculate_metric_on_test_ds(dataset, metric, column_text = \"article\", column_summary = \"highlights\"):\n",
        "  summaries = [baseline_summary_three_sent(text) for text in dataset[column_text]]\n",
        "  metric.add_batch(predictions = summaries, references = dataset[column_summary])\n",
        "\n",
        "  score = metric.compute()\n",
        "\n",
        "  return score\n"
      ],
      "metadata": {
        "id": "MPdR7GA6Cg7W"
      },
      "execution_count": null,
      "outputs": []
    },
    {
      "cell_type": "code",
      "source": [
        "test_sample = dataset[\"train\"].shuffle(seed=42).select(range(1000))\n",
        "\n",
        "score = calculate_metric_on_test_ds(test_sample, rouge_metric)\n",
        "\n",
        "rouge_dict = dict((rn, score[rn].mid.fmeasure) for rn in rouge_names)\n",
        "\n",
        "pd.DataFrame.from_dict(rouge_dict, orient = \"index\", columns = [\"Baseline\"]).T\n"
      ],
      "metadata": {
        "id": "IkpuoeldH20C",
        "colab": {
          "base_uri": "https://localhost:8080/",
          "height": 81
        },
        "outputId": "dec48a87-f3f9-40bd-b792-4ffc08b9a7e1"
      },
      "execution_count": null,
      "outputs": [
        {
          "output_type": "execute_result",
          "data": {
            "text/plain": [
              "            rouge1    rouge2    rougeL  rougeLsum\n",
              "Baseline  0.253772  0.100706  0.165549   0.232214"
            ],
            "text/html": [
              "\n",
              "\n",
              "  <div id=\"df-51a7ca8c-2a18-4d04-835b-17a8e0e6c7a2\">\n",
              "    <div class=\"colab-df-container\">\n",
              "      <div>\n",
              "<style scoped>\n",
              "    .dataframe tbody tr th:only-of-type {\n",
              "        vertical-align: middle;\n",
              "    }\n",
              "\n",
              "    .dataframe tbody tr th {\n",
              "        vertical-align: top;\n",
              "    }\n",
              "\n",
              "    .dataframe thead th {\n",
              "        text-align: right;\n",
              "    }\n",
              "</style>\n",
              "<table border=\"1\" class=\"dataframe\">\n",
              "  <thead>\n",
              "    <tr style=\"text-align: right;\">\n",
              "      <th></th>\n",
              "      <th>rouge1</th>\n",
              "      <th>rouge2</th>\n",
              "      <th>rougeL</th>\n",
              "      <th>rougeLsum</th>\n",
              "    </tr>\n",
              "  </thead>\n",
              "  <tbody>\n",
              "    <tr>\n",
              "      <th>Baseline</th>\n",
              "      <td>0.253772</td>\n",
              "      <td>0.100706</td>\n",
              "      <td>0.165549</td>\n",
              "      <td>0.232214</td>\n",
              "    </tr>\n",
              "  </tbody>\n",
              "</table>\n",
              "</div>\n",
              "      <button class=\"colab-df-convert\" onclick=\"convertToInteractive('df-51a7ca8c-2a18-4d04-835b-17a8e0e6c7a2')\"\n",
              "              title=\"Convert this dataframe to an interactive table.\"\n",
              "              style=\"display:none;\">\n",
              "\n",
              "  <svg xmlns=\"http://www.w3.org/2000/svg\" height=\"24px\"viewBox=\"0 0 24 24\"\n",
              "       width=\"24px\">\n",
              "    <path d=\"M0 0h24v24H0V0z\" fill=\"none\"/>\n",
              "    <path d=\"M18.56 5.44l.94 2.06.94-2.06 2.06-.94-2.06-.94-.94-2.06-.94 2.06-2.06.94zm-11 1L8.5 8.5l.94-2.06 2.06-.94-2.06-.94L8.5 2.5l-.94 2.06-2.06.94zm10 10l.94 2.06.94-2.06 2.06-.94-2.06-.94-.94-2.06-.94 2.06-2.06.94z\"/><path d=\"M17.41 7.96l-1.37-1.37c-.4-.4-.92-.59-1.43-.59-.52 0-1.04.2-1.43.59L10.3 9.45l-7.72 7.72c-.78.78-.78 2.05 0 2.83L4 21.41c.39.39.9.59 1.41.59.51 0 1.02-.2 1.41-.59l7.78-7.78 2.81-2.81c.8-.78.8-2.07 0-2.86zM5.41 20L4 18.59l7.72-7.72 1.47 1.35L5.41 20z\"/>\n",
              "  </svg>\n",
              "      </button>\n",
              "\n",
              "\n",
              "\n",
              "    <div id=\"df-6ab22dad-d2c9-4c96-b7b9-28990ae52148\">\n",
              "      <button class=\"colab-df-quickchart\" onclick=\"quickchart('df-6ab22dad-d2c9-4c96-b7b9-28990ae52148')\"\n",
              "              title=\"Suggest charts.\"\n",
              "              style=\"display:none;\">\n",
              "\n",
              "<svg xmlns=\"http://www.w3.org/2000/svg\" height=\"24px\"viewBox=\"0 0 24 24\"\n",
              "     width=\"24px\">\n",
              "    <g>\n",
              "        <path d=\"M19 3H5c-1.1 0-2 .9-2 2v14c0 1.1.9 2 2 2h14c1.1 0 2-.9 2-2V5c0-1.1-.9-2-2-2zM9 17H7v-7h2v7zm4 0h-2V7h2v10zm4 0h-2v-4h2v4z\"/>\n",
              "    </g>\n",
              "</svg>\n",
              "      </button>\n",
              "    </div>\n",
              "\n",
              "<style>\n",
              "  .colab-df-quickchart {\n",
              "    background-color: #E8F0FE;\n",
              "    border: none;\n",
              "    border-radius: 50%;\n",
              "    cursor: pointer;\n",
              "    display: none;\n",
              "    fill: #1967D2;\n",
              "    height: 32px;\n",
              "    padding: 0 0 0 0;\n",
              "    width: 32px;\n",
              "  }\n",
              "\n",
              "  .colab-df-quickchart:hover {\n",
              "    background-color: #E2EBFA;\n",
              "    box-shadow: 0px 1px 2px rgba(60, 64, 67, 0.3), 0px 1px 3px 1px rgba(60, 64, 67, 0.15);\n",
              "    fill: #174EA6;\n",
              "  }\n",
              "\n",
              "  [theme=dark] .colab-df-quickchart {\n",
              "    background-color: #3B4455;\n",
              "    fill: #D2E3FC;\n",
              "  }\n",
              "\n",
              "  [theme=dark] .colab-df-quickchart:hover {\n",
              "    background-color: #434B5C;\n",
              "    box-shadow: 0px 1px 3px 1px rgba(0, 0, 0, 0.15);\n",
              "    filter: drop-shadow(0px 1px 2px rgba(0, 0, 0, 0.3));\n",
              "    fill: #FFFFFF;\n",
              "  }\n",
              "</style>\n",
              "\n",
              "    <script>\n",
              "      async function quickchart(key) {\n",
              "        const containerElement = document.querySelector('#' + key);\n",
              "        const charts = await google.colab.kernel.invokeFunction(\n",
              "            'suggestCharts', [key], {});\n",
              "      }\n",
              "    </script>\n",
              "\n",
              "      <script>\n",
              "\n",
              "function displayQuickchartButton(domScope) {\n",
              "  let quickchartButtonEl =\n",
              "    domScope.querySelector('#df-6ab22dad-d2c9-4c96-b7b9-28990ae52148 button.colab-df-quickchart');\n",
              "  quickchartButtonEl.style.display =\n",
              "    google.colab.kernel.accessAllowed ? 'block' : 'none';\n",
              "}\n",
              "\n",
              "        displayQuickchartButton(document);\n",
              "      </script>\n",
              "      <style>\n",
              "    .colab-df-container {\n",
              "      display:flex;\n",
              "      flex-wrap:wrap;\n",
              "      gap: 12px;\n",
              "    }\n",
              "\n",
              "    .colab-df-convert {\n",
              "      background-color: #E8F0FE;\n",
              "      border: none;\n",
              "      border-radius: 50%;\n",
              "      cursor: pointer;\n",
              "      display: none;\n",
              "      fill: #1967D2;\n",
              "      height: 32px;\n",
              "      padding: 0 0 0 0;\n",
              "      width: 32px;\n",
              "    }\n",
              "\n",
              "    .colab-df-convert:hover {\n",
              "      background-color: #E2EBFA;\n",
              "      box-shadow: 0px 1px 2px rgba(60, 64, 67, 0.3), 0px 1px 3px 1px rgba(60, 64, 67, 0.15);\n",
              "      fill: #174EA6;\n",
              "    }\n",
              "\n",
              "    [theme=dark] .colab-df-convert {\n",
              "      background-color: #3B4455;\n",
              "      fill: #D2E3FC;\n",
              "    }\n",
              "\n",
              "    [theme=dark] .colab-df-convert:hover {\n",
              "      background-color: #434B5C;\n",
              "      box-shadow: 0px 1px 3px 1px rgba(0, 0, 0, 0.15);\n",
              "      filter: drop-shadow(0px 1px 2px rgba(0, 0, 0, 0.3));\n",
              "      fill: #FFFFFF;\n",
              "    }\n",
              "  </style>\n",
              "\n",
              "      <script>\n",
              "        const buttonEl =\n",
              "          document.querySelector('#df-51a7ca8c-2a18-4d04-835b-17a8e0e6c7a2 button.colab-df-convert');\n",
              "        buttonEl.style.display =\n",
              "          google.colab.kernel.accessAllowed ? 'block' : 'none';\n",
              "\n",
              "        async function convertToInteractive(key) {\n",
              "          const element = document.querySelector('#df-51a7ca8c-2a18-4d04-835b-17a8e0e6c7a2');\n",
              "          const dataTable =\n",
              "            await google.colab.kernel.invokeFunction('convertToInteractive',\n",
              "                                                     [key], {});\n",
              "          if (!dataTable) return;\n",
              "\n",
              "          const docLinkHtml = 'Like what you see? Visit the ' +\n",
              "            '<a target=\"_blank\" href=https://colab.research.google.com/notebooks/data_table.ipynb>data table notebook</a>'\n",
              "            + ' to learn more about interactive tables.';\n",
              "          element.innerHTML = '';\n",
              "          dataTable['output_type'] = 'display_data';\n",
              "          await google.colab.output.renderOutput(dataTable, element);\n",
              "          const docLink = document.createElement('div');\n",
              "          docLink.innerHTML = docLinkHtml;\n",
              "          element.appendChild(docLink);\n",
              "        }\n",
              "      </script>\n",
              "    </div>\n",
              "  </div>\n"
            ]
          },
          "metadata": {},
          "execution_count": 11
        }
      ]
    },
    {
      "cell_type": "markdown",
      "source": [
        "BART"
      ],
      "metadata": {
        "id": "Qr1GqBTPS-12"
      }
    },
    {
      "cell_type": "code",
      "source": [
        "from tqdm import tqdm\n",
        "import torch\n",
        "\n",
        "device = \"cuda\" if torch.cuda.is_available() else \"cpu\"\n",
        "\n",
        "def generate_batch_sized_chunks(list_of_elements, batch_size):\n",
        "  for i in range(0,len(list_of_elements), batch_size):\n",
        "    yield list_of_elements[i : i + batch_size]\n",
        "\n",
        "def calculate_metric_on_test_ds(dataset, metric, model, tokenizer, batch_size = 8, device = device, column_text=\"article\", column_summary=\"highlights\"):\n",
        "\n",
        "  article_batches = list(generate_batch_sized_chunks(dataset[column_text], batch_size))\n",
        "  target_batches = list(generate_batch_sized_chunks(dataset[column_summary], batch_size))\n",
        "\n",
        "  for article_batch, target_batch in tqdm(zip(article_batches, target_batches,), total = len(article_batches)):\n",
        "\n",
        "      inputs = tokenizer(article_batch, max_length=512, truncation = True, padding = \"max_length\", return_tensors = \"pt\" )\n",
        "\n",
        "      summaries = model.generate(input_ids = inputs[\"input_ids\"].to(device),\n",
        "                                 attention_mask = inputs[\"attention_mask\"].to(device),\n",
        "                                 length_penalty = 0.8, num_beams = 8, max_length = 128)\n",
        "\n",
        "      decoded_summaries = [tokenizer.decode(s, skip_special_tokens = True, clean_up_tokenization_spaces = True) for s in summaries]\n",
        "      decoded_summaries = [d.replace(\"<n>\", \" \") for d in decoded_summaries]\n",
        "\n",
        "      metric.add_batch(predictions = decoded_summaries, reference = target_batch)\n",
        "\n",
        "  score = metric.compute()\n",
        "\n",
        "  return score"
      ],
      "metadata": {
        "id": "Glru2Qr7I4GU"
      },
      "execution_count": null,
      "outputs": []
    },
    {
      "cell_type": "code",
      "source": [
        "test_sample = dataset[\"train\"].shuffle(seed=42).select(range(1000))\n",
        "\n",
        "model_name = \"facebook/bart-large-cnn\"\n",
        "tokenizer = AutoTokenizer.from_pretrained(model_name)\n",
        "model = AutoModelForSeq2SeqLM.from_pretrained(model_name).to(device)\n",
        "\n",
        "score = calculate_metric_on_test_ds(test_sample, rouge_metric, model, tokenizer)\n",
        "\n",
        "rouge_dict = {rn: score[rn].mid.fmeasure for rn in rouge_names}\n",
        "\n",
        "pd.DataFrame.from_dict(rouge_dict, orient=\"index\", columns=[\"Bart\"]).T\n"
      ],
      "metadata": {
        "id": "i4Std7xPaR1w"
      },
      "execution_count": null,
      "outputs": []
    },
    {
      "cell_type": "code",
      "source": [],
      "metadata": {
        "id": "o06uDk5fxNFl"
      },
      "execution_count": null,
      "outputs": []
    },
    {
      "cell_type": "code",
      "execution_count": null,
      "metadata": {
        "id": "tzuPZ5adHcDQ"
      },
      "outputs": [],
      "source": []
    }
  ],
  "metadata": {
    "accelerator": "GPU",
    "colab": {
      "provenance": [],
      "gpuType": "T4",
      "authorship_tag": "ABX9TyMQTQmZe3JSjuZ9pqDNgXmg",
      "include_colab_link": true
    },
    "kernelspec": {
      "display_name": "Python 3",
      "name": "python3"
    },
    "language_info": {
      "name": "python"
    }
  },
  "nbformat": 4,
  "nbformat_minor": 0
}